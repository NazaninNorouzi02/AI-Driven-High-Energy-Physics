{
  "cells": [
    {
      "cell_type": "markdown",
      "metadata": {
        "id": "hZGsnZL5OeUn"
      },
      "source": [
        "# Exercise 01: Design a detector for banana cargo at port.\n",
        "\n",
        "A- Calculate the neutrino flux from a ship of Bananas. On average, a ship carrying bananas might spend 3 days in port just for offloading.\n",
        "\n",
        "B- Suggest possible reaction channels to detect the flux?\n",
        "\n",
        "C- Discuses why the inverse beta decay is not a possible solution."
      ]
    },
    {
      "cell_type": "markdown",
      "source": [
        "#### Your answer:"
      ],
      "metadata": {
        "id": "Kwo5po6hR4BS"
      }
    },
    {
      "cell_type": "markdown",
      "source": [
        "A. For calculating the flux, we first have to calculate the fraction-decayed or decay rate of Potassium-40 in bananas\n",
        "and then calculate the flux at an approximate distance of the cargo from the detector.\n",
        "The cargo might spend 3 days in port, but we can show that the amount of time is irrelevant,\n",
        "because the half-life of this particular cargo is very long.  \n",
        "\n",
        "The decay rate formula is:  \n",
        "\n",
        "$$\n",
        "A(t) = \\lambda N(t) = \\lambda N_0 e^{-\\lambda t},\n",
        "$$\n",
        "\n",
        "and $\\lambda$ is the decay constant, which is:\n",
        "$$\n",
        "\\lambda = \\frac{\\ln 2}{T_{1/2}}\n",
        "$$\n",
        "Since the lifetime of Potassium-40 is much longer than the experimental time (3 days),\n",
        "the $\\lambda t$ factor is much less than 1, and the activity can be approximated as $\\lambda N$.  \n",
        "\n",
        "The given numbers are found in Wikipedia and other reliable websites.  \n",
        "\n",
        "Potassium-40 has two dominant decay channels:  \n",
        "\n",
        "1. Electron emission from beta-minus decay (89%), which produces a $\\bar{ν}_{e}$.  \n",
        "2. Electron capture (10%), which produces a $ν_{e}$.  \n",
        "\n",
        "We can separate the flux of these two channels using their decay fractions,\n",
        "but here I have only calculated the total flux.\n"
      ],
      "metadata": {
        "id": "hWFVYAIUQ9m7"
      }
    },
    {
      "cell_type": "code",
      "source": [
        "import numpy as np\n",
        "\n",
        "# Given\n",
        "banana_mass = 1000000 # Total Mass of the Cargo (grams)\n",
        "Kfrac = 0.004 #  Amount of Potassuim in 1 gram banana\n",
        "K40frac = 0.000117\n",
        "\n",
        "mass_k40 = banana_mass * Kfrac * K40frac # grams\n",
        "\n",
        "molar_mass_k40 = 40  # grams per mole\n",
        "avogadro_number = 6.022e23  # atoms per mole\n",
        "\n",
        "# Calculate number of atoms\n",
        "number_atoms = (mass_k40 / molar_mass_k40) * avogadro_number\n",
        "print(f\"Total K-40 mass: {mass_k40:.6f} g\")\n",
        "print(f\"Number of K-40 atoms: {number_atoms:.3e}\")\n",
        "\n"
      ],
      "metadata": {
        "id": "GqToskNPRkqv",
        "outputId": "b40de1c2-21f8-47e5-cf0b-eb5e9ce07d51",
        "colab": {
          "base_uri": "https://localhost:8080/"
        }
      },
      "execution_count": 1,
      "outputs": [
        {
          "output_type": "stream",
          "name": "stdout",
          "text": [
            "Total K-40 mass: 0.468000 g\n",
            "Number of K-40 atoms: 7.046e+21\n"
          ]
        }
      ]
    },
    {
      "cell_type": "code",
      "source": [
        "# Given\n",
        "half_life_years = 1.25e9  # years\n",
        "seconds_per_year = 3.154e7  # seconds in one year\n",
        "\n",
        "half_life_sec = half_life_years * seconds_per_year\n",
        "\n",
        "# Calculate decay constant\n",
        "decay_constant = np.log(2) / half_life_sec\n",
        "print(f\"Decay constant (1/s): {decay_constant:.3e}\")"
      ],
      "metadata": {
        "id": "oqXbsloeR0cp",
        "outputId": "fa71e8ef-244e-4f29-e051-50d4c6991c85",
        "colab": {
          "base_uri": "https://localhost:8080/"
        }
      },
      "execution_count": 2,
      "outputs": [
        {
          "output_type": "stream",
          "name": "stdout",
          "text": [
            "Decay constant (1/s): 1.758e-17\n"
          ]
        }
      ]
    },
    {
      "cell_type": "code",
      "source": [
        "time_days = 3\n",
        "seconds_per_day = 86400\n",
        "\n",
        "time_sec = time_days * seconds_per_day\n",
        "\n",
        "# Calculate Avrage Activity\n",
        "\n",
        "fraction_decayed= 1 - np.exp(-decay_constant * time_sec)\n",
        "number_decays = number_atoms * fraction_decayed\n",
        "Activity_avg = number_decays / time_sec\n",
        "\n",
        "# Or simply just ...\n",
        "\n",
        "Total_Activity = decay_constant * number_atoms\n",
        "\n",
        "print(f\"Fraction decayed in 3 days: {fraction_decayed:.3e}\")\n",
        "print(f\"Total decays in 3 days: {number_decays:.3e}\")\n",
        "#--------Activity----------\n",
        "#Both should be the same#\n",
        "print(f\"Avrage Activity in 3 days : {Activity_avg:.3e}\")\n",
        "print(f\"Total Activity : {Total_Activity:.3e}\")\n",
        "\n"
      ],
      "metadata": {
        "id": "e5svcRLhR6UH",
        "outputId": "008abaa3-597c-415c-f13a-bcec3bd5ad73",
        "colab": {
          "base_uri": "https://localhost:8080/"
        }
      },
      "execution_count": 4,
      "outputs": [
        {
          "output_type": "stream",
          "name": "stdout",
          "text": [
            "Fraction decayed in 3 days: 4.557e-12\n",
            "Total decays in 3 days: 3.211e+10\n",
            "Avrage Activity in 3 days : 1.239e+05\n",
            "Total Activity : 1.239e+05\n"
          ]
        }
      ]
    },
    {
      "cell_type": "code",
      "source": [
        "# Distance from source in meters\n",
        "r = 10 # Very Hypothetical Number\n",
        "\n",
        "# Calculate flux\n",
        "flux = Total_Activity / (4 * np.pi * r**2)\n",
        "\n",
        "\n",
        "# neutrinos per square meter per second\n",
        "print(f\"Neutrino flux at 10 m: {flux :.3f} neutrinos/m²/s\")\n",
        "\n"
      ],
      "metadata": {
        "id": "w62Esb3sS1jj",
        "outputId": "68cd8486-2236-4da1-f04a-99e2f6e12f88",
        "colab": {
          "base_uri": "https://localhost:8080/"
        }
      },
      "execution_count": 5,
      "outputs": [
        {
          "output_type": "stream",
          "name": "stdout",
          "text": [
            "Neutrino flux at 10 m: 98.576 neutrinos/m²/s\n"
          ]
        }
      ]
    },
    {
      "cell_type": "markdown",
      "source": [
        "B. I only focus on the two dominant decay channels of Potassium-40 mentioned above,\n",
        "because other channels have a very low contribution.  \n",
        "\n",
        "\n",
        "### 1. Beta-minus decay\n",
        "\n",
        "$$\n",
        "^{40}\\text{K} \\to {}^{40}\\text{Ca} + e^- + \\bar{\\nu}_e\n",
        "$$  \n",
        "\n",
        "It produces a $\\bar{\\nu}_{e}$ with energies up to 1.3 MeV.  \n",
        "\n",
        "**Possible detection channels:**\n",
        "\n",
        "- **Inverse beta decay (IBD):**  \n",
        "\n",
        "$$\n",
        "\\bar{\\nu}_e + p \\to e^+ + n\n",
        "$$\n",
        "\n",
        "I explain why this isn’t feasible in Section C of the question.  \n",
        "\n",
        "- **Neutrino-electron elastic scattering:**  \n",
        "\n",
        "$$\n",
        "\\bar{\\nu} + e^- \\to \\bar{\\nu} + e^-\n",
        "$$  \n",
        "\n",
        "It works for low-energy neutrinos but has a very small cross section.\n",
        "\n",
        "\n",
        "\n",
        "### 2. Electron capture decay\n",
        "\n",
        "$$\n",
        "^{40}\\text{K} + e^- \\to {}^{40}\\text{Ar} + \\nu_e\n",
        "$$  \n",
        "\n",
        "It produces $\\nu_{e}$ with energy ~1.5 MeV.  \n",
        "\n",
        "**Possible detection channels:**\n",
        "\n",
        "- **Neutrino-electron elastic scattering:**  \n",
        "\n",
        "$$\n",
        "\\nu_e + e^- \\to \\nu_e + e^-\n",
        "$$\n",
        "Same problem as above.  \n",
        "\n",
        "- **Charged-current reactions on nuclei:**  \n",
        "\n",
        "Low-energy $\\nu_e$ can interact with certain nuclei, for example:  \n",
        "\n",
        "$$\n",
        "\\nu_e + {}^{37}\\text{Cl} \\to {}^{37}\\text{Ar} + e^-\n",
        "$$  \n",
        "\n",
        "This is the principle used in solar neutrino detectors (Cl or Ga detectors).  \n",
        "\n",
        "\n",
        "Bottom line is conventional neutrino detectors like water Cherenkov detectors are mostly **insensitive** to these low-energy neutrinos.  \n",
        "\n",
        "Moreover, the **background at a port** from the Sun, people, and other sources is extremely high and creating a very isolated environment for detection would be inefficient.  \n",
        "\n",
        "Probably this is why we **do not have a \"banana neutrino detector\"**. However, from my research, detecting bananas using **image processing and robotics** for harvesting is an active area of development. Most of the work I found on this topic involves **computer vision techniques** rather than any physics-based detection.  \n",
        "\n",
        "It is worth mentioning that, if we put aside neutrinos, we **can detect a flux of 1.46 MeV gamma rays** from the electron capture decay channel. In this process, the nucleus absorbs an inner orbital electron and leaves the daughter nucleus ${}^{40}\\text{Ar}$ in an **excited state**. The excited nucleus then relaxes to the ground state by emitting a **gamma photon of 1.46 MeV**. Detection of these gammas is much easier than neutrinos, but the count rate is still very low.\n",
        "\n",
        "\n"
      ],
      "metadata": {
        "id": "3UNCbLoCTINm"
      }
    },
    {
      "cell_type": "markdown",
      "source": [
        "C. Inverse beta decay (IBD) requires the incoming antineutrino to have an energy greater than **1.8 MeV** to produce a positron and a neutron:  \n",
        "\n",
        "$$\n",
        "\\bar{\\nu}_e + p \\to e^+ + n\n",
        "$$  \n",
        "\n",
        "However, the electron antineutrinos emitted from $^{40}\\text{K}$ beta-minus decay have **maximum energies of only ~1.31 MeV**, which is below the IBD threshold. Therefore, it is an impossible detection method for banana neutrinos.\n"
      ],
      "metadata": {
        "id": "dLrZ8BGsTO85"
      }
    },
    {
      "cell_type": "markdown",
      "metadata": {
        "id": "lFbRQukROeU_"
      },
      "source": [
        "\n",
        "---\n",
        "\n",
        "# Exercise 02: Bayesian Parameter Estimation via MCMC\n",
        "\n",
        "**Context:**  \n",
        "In observational cosmology, the relationship between redshift $z$ and luminosity distance $D_L$ in a flat $\\Lambda$CDM model is approximately:\n",
        "\n",
        "$$ D_L(z; H_0, \\Omega_m) \\approx \\frac{c(1+z)}{H_0} \\int_0^z \\frac{dz'}{\\sqrt{\\Omega_m(1+z')^3 + (1-\\Omega_m)}} $$\n",
        "\n",
        "where $c = 299{,}792.458\\ \\text{km/s}$.\n",
        "\n",
        "In this exercise, you will be given synthetic $D_L$ vs. $z$ data generated for realistic cosmological parameters.  \n",
        "Your task is to use **Metropolis–Hastings MCMC** to estimate $H_0$ and $\\Omega_m$ from this noisy dataset.\n",
        "\n",
        "---\n",
        "\n",
        "## What to Do\n",
        "\n",
        "### 1. Model and Likelihood\n",
        "- Assume Gaussian errors $\\sigma_{D_L}$ for each data point.\n",
        "- The likelihood for parameters $(H_0, \\Omega_m)$ is:\n",
        "\n",
        "$$ L(H_0, \\Omega_m) \\propto \\exp\\left( -\\frac{1}{2} \\sum_{i} \\frac{\\left[ D_{L,i}^{\\text{obs}} - D_L(z_i; H_0, \\Omega_m) \\right]^2}{\\sigma_{D_L}^2} \\right) $$\n",
        "\n",
        "---\n",
        "\n",
        "### 2. Set Prior Distributions as:\n",
        "- $H_0 \\sim \\mathcal{U}(50,\\, 90)$ km/s/Mpc  \n",
        "- $\\Omega_m \\sim \\mathcal{U}(0.1,\\, 0.6)$\n",
        "\n",
        "---\n",
        "\n",
        "### 3. Metropolis–Hastings Implementation\n",
        "- Proposal: Gaussian jumps in both parameters:\n",
        "\n",
        "$$ H_0^{\\text{new}} \\sim \\mathcal{N}(H_0^{\\text{old}}, \\delta_{H_0}^2), \\quad \\Omega_m^{\\text{new}} \\sim \\mathcal{N}(\\Omega_m^{\\text{old}}, \\delta_{\\Omega_m}^2) $$\n",
        "\n",
        "- Compute acceptance ratio:\n",
        "\n",
        "$$ r = \\frac{P_{\\text{posterior}}\\left(H_0^{\\text{new}}, \\Omega_m^{\\text{new}}\\right)}{P_{\\text{posterior}}\\left(H_0^{\\text{old}}, \\Omega_m^{\\text{old}}\\right)} $$\n",
        "\n",
        "- Accept or reject according to $u < r$, where $u \\sim U(0,1)$.\n",
        "\n",
        "---\n",
        "\n",
        "### 4. Tasks\n",
        "- Write your own Metropolis–Hastings routine from scratch\n",
        "- Run chains long enough to achieve convergence.\n",
        "- Plot posterior distributions and credible intervals for $H_0$ and $\\Omega_m$.\n",
        "- Discuss how changing proposal widths $\\delta_{H_0}$ and $\\delta_{\\Omega_m}$ affects convergence.\n",
        "\n",
        "---\n",
        "\n",
        "### Data Format\n",
        "You will be provided with a TXT file **`mcmc_cosmo_data.txt`** located in the `data` folder.\n",
        "Load the file (ignoring the header) and use it in your MCMC implementation.\n"
      ]
    },
    {
      "cell_type": "markdown",
      "metadata": {
        "id": "iSTRvd-fOeVC"
      },
      "source": [
        "#### Your answer:"
      ]
    },
    {
      "cell_type": "code",
      "execution_count": null,
      "metadata": {
        "id": "mM30GTw1OeVD"
      },
      "outputs": [],
      "source": []
    }
  ],
  "metadata": {
    "colab": {
      "collapsed_sections": [
        "7t4aZ35E3xsN"
      ],
      "provenance": []
    },
    "kernelspec": {
      "display_name": "base",
      "language": "python",
      "name": "python3"
    },
    "language_info": {
      "codemirror_mode": {
        "name": "ipython",
        "version": 3
      },
      "file_extension": ".py",
      "mimetype": "text/x-python",
      "name": "python",
      "nbconvert_exporter": "python",
      "pygments_lexer": "ipython3",
      "version": "3.11.4"
    }
  },
  "nbformat": 4,
  "nbformat_minor": 0
}