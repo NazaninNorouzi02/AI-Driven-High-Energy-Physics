{
  "cells": [
    {
      "cell_type": "markdown",
      "metadata": {
        "id": "hZGsnZL5OeUn"
      },
      "source": [
        "# Exercise 01: Design a detector for banana cargo at port.\n",
        "\n",
        "A- Calculate the neutrino flux from a ship of Bananas. On average, a ship carrying bananas might spend 3 days in port just for offloading.\n",
        "\n",
        "B- Suggest possible reaction channels to detect the flux?\n",
        "\n",
        "C- Discuses why the inverse beta decay is not a possible solution."
      ]
    },
    {
      "cell_type": "markdown",
      "source": [
        "#### Your answer:"
      ],
      "metadata": {
        "id": "Kwo5po6hR4BS"
      }
    },
    {
      "cell_type": "markdown",
      "source": [
        "A. For calculating the flux, we first have to calculate the fraction-decayed or decay rate of Potassium-40 in bananas\n",
        "and then calculate the flux at an approximate distance of the cargo from the detector.\n",
        "The cargo might spend 3 days in port, but we can show that the amount of time is irrelevant,\n",
        "because the half-life of this particular cargo is very long.  \n",
        "\n",
        "The decay rate formula is:  \n",
        "\n",
        "$$\n",
        "A(t) = \\lambda N(t) = \\lambda N_0 e^{-\\lambda t},\n",
        "$$\n",
        "\n",
        "and $\\lambda$ is the decay constant, which is:\n",
        "$$\n",
        "\\lambda = \\frac{\\ln 2}{T_{1/2}}\n",
        "$$\n",
        "Since the lifetime of Potassium-40 is much longer than the experimental time (3 days),\n",
        "the $\\lambda t$ factor is much less than 1, and the activity can be approximated as $\\lambda N$.  \n",
        "\n",
        "The given numbers are found in Wikipedia and other reliable websites.  \n",
        "\n",
        "Potassium-40 has two dominant decay channels:  \n",
        "\n",
        "1. Electron emission from beta-minus decay (89%), which produces a $\\bar{ν}_{e}$.  \n",
        "2. Electron capture (10%), which produces a $ν_{e}$.  \n",
        "\n",
        "We can separate the flux of these two channels using their decay fractions,\n",
        "but here I have only calculated the total flux.\n"
      ],
      "metadata": {
        "id": "hWFVYAIUQ9m7"
      }
    },
    {
      "cell_type": "code",
      "source": [
        "import numpy as np\n",
        "\n",
        "# Given\n",
        "banana_mass = 1000000 # Total Mass of the Cargo (grams)\n",
        "Kfrac = 0.004 #  Amount of Potassuim in 1 gram banana\n",
        "K40frac = 0.000117\n",
        "\n",
        "mass_k40 = banana_mass * Kfrac * K40frac # grams\n",
        "\n",
        "molar_mass_k40 = 40  # grams per mole\n",
        "avogadro_number = 6.022e23  # atoms per mole\n",
        "\n",
        "# Calculate number of atoms\n",
        "number_atoms = (mass_k40 / molar_mass_k40) * avogadro_number\n",
        "print(f\"Total K-40 mass: {mass_k40:.6f} g\")\n",
        "print(f\"Number of K-40 atoms: {number_atoms:.3e}\")\n",
        "\n"
      ],
      "metadata": {
        "colab": {
          "base_uri": "https://localhost:8080/"
        },
        "id": "GqToskNPRkqv",
        "outputId": "b40de1c2-21f8-47e5-cf0b-eb5e9ce07d51"
      },
      "execution_count": 1,
      "outputs": [
        {
          "output_type": "stream",
          "name": "stdout",
          "text": [
            "Total K-40 mass: 0.468000 g\n",
            "Number of K-40 atoms: 7.046e+21\n"
          ]
        }
      ]
    },
    {
      "cell_type": "code",
      "source": [
        "# Given\n",
        "half_life_years = 1.25e9  # years\n",
        "seconds_per_year = 3.154e7  # seconds in one year\n",
        "\n",
        "half_life_sec = half_life_years * seconds_per_year\n",
        "\n",
        "# Calculate decay constant\n",
        "decay_constant = np.log(2) / half_life_sec\n",
        "print(f\"Decay constant (1/s): {decay_constant:.3e}\")"
      ],
      "metadata": {
        "colab": {
          "base_uri": "https://localhost:8080/"
        },
        "id": "oqXbsloeR0cp",
        "outputId": "fa71e8ef-244e-4f29-e051-50d4c6991c85"
      },
      "execution_count": 2,
      "outputs": [
        {
          "output_type": "stream",
          "name": "stdout",
          "text": [
            "Decay constant (1/s): 1.758e-17\n"
          ]
        }
      ]
    },
    {
      "cell_type": "code",
      "source": [
        "time_days = 3\n",
        "seconds_per_day = 86400\n",
        "\n",
        "time_sec = time_days * seconds_per_day\n",
        "\n",
        "# Calculate Avrage Activity\n",
        "\n",
        "fraction_decayed= 1 - np.exp(-decay_constant * time_sec)\n",
        "number_decays = number_atoms * fraction_decayed\n",
        "Activity_avg = number_decays / time_sec\n",
        "\n",
        "# Or simply just ...\n",
        "\n",
        "Total_Activity = decay_constant * number_atoms\n",
        "\n",
        "print(f\"Fraction decayed in 3 days: {fraction_decayed:.3e}\")\n",
        "print(f\"Total decays in 3 days: {number_decays:.3e}\")\n",
        "#--------Activity----------\n",
        "#Both should be the same#\n",
        "print(f\"Avrage Activity in 3 days : {Activity_avg:.3e}\")\n",
        "print(f\"Total Activity : {Total_Activity:.3e}\")\n",
        "\n"
      ],
      "metadata": {
        "colab": {
          "base_uri": "https://localhost:8080/"
        },
        "id": "e5svcRLhR6UH",
        "outputId": "008abaa3-597c-415c-f13a-bcec3bd5ad73"
      },
      "execution_count": 4,
      "outputs": [
        {
          "output_type": "stream",
          "name": "stdout",
          "text": [
            "Fraction decayed in 3 days: 4.557e-12\n",
            "Total decays in 3 days: 3.211e+10\n",
            "Avrage Activity in 3 days : 1.239e+05\n",
            "Total Activity : 1.239e+05\n"
          ]
        }
      ]
    },
    {
      "cell_type": "code",
      "source": [
        "# Distance from source in meters\n",
        "r = 10 # Very Hypothetical Number\n",
        "\n",
        "# Calculate flux\n",
        "flux = Total_Activity / (4 * np.pi * r**2)\n",
        "\n",
        "\n",
        "# neutrinos per square meter per second\n",
        "print(f\"Neutrino flux at 10 m: {flux :.3f} neutrinos/m²/s\")\n",
        "\n"
      ],
      "metadata": {
        "colab": {
          "base_uri": "https://localhost:8080/"
        },
        "id": "w62Esb3sS1jj",
        "outputId": "68cd8486-2236-4da1-f04a-99e2f6e12f88"
      },
      "execution_count": 5,
      "outputs": [
        {
          "output_type": "stream",
          "name": "stdout",
          "text": [
            "Neutrino flux at 10 m: 98.576 neutrinos/m²/s\n"
          ]
        }
      ]
    },
    {
      "cell_type": "markdown",
      "source": [
        "B. I only focus on the two dominant decay channels of Potassium-40 mentioned above,\n",
        "because other channels have a very low contribution.  \n",
        "\n",
        "\n",
        "### 1. Beta-minus decay\n",
        "\n",
        "$$\n",
        "^{40}\\text{K} \\to {}^{40}\\text{Ca} + e^- + \\bar{\\nu}_e\n",
        "$$  \n",
        "\n",
        "It produces a $\\bar{\\nu}_{e}$ with energies up to 1.3 MeV.  \n",
        "\n",
        "**Possible detection channels:**\n",
        "\n",
        "- **Inverse beta decay (IBD):**  \n",
        "\n",
        "$$\n",
        "\\bar{\\nu}_e + p \\to e^+ + n\n",
        "$$\n",
        "\n",
        "I explain why this isn’t feasible in Section C of the question.  \n",
        "\n",
        "- **Neutrino-electron elastic scattering:**  \n",
        "\n",
        "$$\n",
        "\\bar{\\nu} + e^- \\to \\bar{\\nu} + e^-\n",
        "$$  \n",
        "\n",
        "It works for low-energy neutrinos but has a very small cross section.\n",
        "\n",
        "\n",
        "\n",
        "### 2. Electron capture decay\n",
        "\n",
        "$$\n",
        "^{40}\\text{K} + e^- \\to {}^{40}\\text{Ar} + \\nu_e\n",
        "$$  \n",
        "\n",
        "It produces $\\nu_{e}$ with energy ~1.5 MeV.  \n",
        "\n",
        "**Possible detection channels:**\n",
        "\n",
        "- **Neutrino-electron elastic scattering:**  \n",
        "\n",
        "$$\n",
        "\\nu_e + e^- \\to \\nu_e + e^-\n",
        "$$\n",
        "Same problem as above.  \n",
        "\n",
        "- **Charged-current reactions on nuclei:**  \n",
        "\n",
        "Low-energy $\\nu_e$ can interact with certain nuclei, for example:  \n",
        "\n",
        "$$\n",
        "\\nu_e + {}^{37}\\text{Cl} \\to {}^{37}\\text{Ar} + e^-\n",
        "$$  \n",
        "\n",
        "This is the principle used in solar neutrino detectors (Cl or Ga detectors).  \n",
        "\n",
        "\n",
        "Bottom line is conventional neutrino detectors like water Cherenkov detectors are mostly **insensitive** to these low-energy neutrinos.  \n",
        "\n",
        "Moreover, the **background at a port** from the Sun, people, and other sources is extremely high and creating a very isolated environment for detection would be inefficient.  \n",
        "\n",
        "Probably this is why we **do not have a \"banana neutrino detector\"**. However, from my research, detecting bananas using **image processing and robotics** for harvesting is an active area of development. Most of the work I found on this topic involves **computer vision techniques** rather than any physics-based detection.  \n",
        "\n",
        "It is worth mentioning that, if we put aside neutrinos, we **can detect a flux of 1.46 MeV gamma rays** from the electron capture decay channel. In this process, the nucleus absorbs an inner orbital electron and leaves the daughter nucleus ${}^{40}\\text{Ar}$ in an **excited state**. The excited nucleus then relaxes to the ground state by emitting a **gamma photon of 1.46 MeV**. Detection of these gammas is much easier than neutrinos, but the count rate is still very low.\n",
        "\n",
        "\n"
      ],
      "metadata": {
        "id": "3UNCbLoCTINm"
      }
    },
    {
      "cell_type": "markdown",
      "source": [
        "C. Inverse beta decay (IBD) requires the incoming antineutrino to have an energy greater than **1.8 MeV** to produce a positron and a neutron:  \n",
        "\n",
        "$$\n",
        "\\bar{\\nu}_e + p \\to e^+ + n\n",
        "$$  \n",
        "\n",
        "However, the electron antineutrinos emitted from $^{40}\\text{K}$ beta-minus decay have **maximum energies of only ~1.31 MeV**, which is below the IBD threshold. Therefore, it is an impossible detection method for banana neutrinos.\n"
      ],
      "metadata": {
        "id": "dLrZ8BGsTO85"
      }
    },
    {
      "cell_type": "markdown",
      "metadata": {
        "id": "lFbRQukROeU_"
      },
      "source": [
        "\n",
        "---\n",
        "\n",
        "# Exercise 02: Bayesian Parameter Estimation via MCMC\n",
        "\n",
        "**Context:**  \n",
        "In observational cosmology, the relationship between redshift $z$ and luminosity distance $D_L$ in a flat $\\Lambda$CDM model is approximately:\n",
        "\n",
        "$$ D_L(z; H_0, \\Omega_m) \\approx \\frac{c(1+z)}{H_0} \\int_0^z \\frac{dz'}{\\sqrt{\\Omega_m(1+z')^3 + (1-\\Omega_m)}} $$\n",
        "\n",
        "where $c = 299{,}792.458\\ \\text{km/s}$.\n",
        "\n",
        "In this exercise, you will be given synthetic $D_L$ vs. $z$ data generated for realistic cosmological parameters.  \n",
        "Your task is to use **Metropolis–Hastings MCMC** to estimate $H_0$ and $\\Omega_m$ from this noisy dataset.\n",
        "\n",
        "---\n",
        "\n",
        "## What to Do\n",
        "\n",
        "### 1. Model and Likelihood\n",
        "- Assume Gaussian errors $\\sigma_{D_L}$ for each data point.\n",
        "- The likelihood for parameters $(H_0, \\Omega_m)$ is:\n",
        "\n",
        "$$ L(H_0, \\Omega_m) \\propto \\exp\\left( -\\frac{1}{2} \\sum_{i} \\frac{\\left[ D_{L,i}^{\\text{obs}} - D_L(z_i; H_0, \\Omega_m) \\right]^2}{\\sigma_{D_L}^2} \\right) $$\n",
        "\n",
        "---\n",
        "\n",
        "### 2. Set Prior Distributions as:\n",
        "- $H_0 \\sim \\mathcal{U}(50,\\, 90)$ km/s/Mpc  \n",
        "- $\\Omega_m \\sim \\mathcal{U}(0.1,\\, 0.6)$\n",
        "\n",
        "---\n",
        "\n",
        "### 3. Metropolis–Hastings Implementation\n",
        "- Proposal: Gaussian jumps in both parameters:\n",
        "\n",
        "$$ H_0^{\\text{new}} \\sim \\mathcal{N}(H_0^{\\text{old}}, \\delta_{H_0}^2), \\quad \\Omega_m^{\\text{new}} \\sim \\mathcal{N}(\\Omega_m^{\\text{old}}, \\delta_{\\Omega_m}^2) $$\n",
        "\n",
        "- Compute acceptance ratio:\n",
        "\n",
        "$$ r = \\frac{P_{\\text{posterior}}\\left(H_0^{\\text{new}}, \\Omega_m^{\\text{new}}\\right)}{P_{\\text{posterior}}\\left(H_0^{\\text{old}}, \\Omega_m^{\\text{old}}\\right)} $$\n",
        "\n",
        "- Accept or reject according to $u < r$, where $u \\sim U(0,1)$.\n",
        "\n",
        "---\n",
        "\n",
        "### 4. Tasks\n",
        "- Write your own Metropolis–Hastings routine from scratch\n",
        "- Run chains long enough to achieve convergence.\n",
        "- Plot posterior distributions and credible intervals for $H_0$ and $\\Omega_m$.\n",
        "- Discuss how changing proposal widths $\\delta_{H_0}$ and $\\delta_{\\Omega_m}$ affects convergence.\n",
        "\n",
        "---\n",
        "\n",
        "### Data Format\n",
        "You will be provided with a TXT file **`mcmc_cosmo_data.txt`** located in the `data` folder.\n",
        "Load the file (ignoring the header) and use it in your MCMC implementation.\n"
      ]
    },
    {
      "cell_type": "markdown",
      "source": [
        "**Thanks for the help and collaboration of Shadi Akbari in this exercise:)**\n",
        "\n",
        "\n",
        "\n"
      ],
      "metadata": {
        "id": "OEU-sKXFd57R"
      }
    },
    {
      "cell_type": "markdown",
      "metadata": {
        "id": "iSTRvd-fOeVC"
      },
      "source": [
        "#### Your answer:"
      ]
    },
    {
      "cell_type": "markdown",
      "source": [
        "# Importing"
      ],
      "metadata": {
        "id": "7CKcDW1cUJz_"
      }
    },
    {
      "cell_type": "code",
      "execution_count": 7,
      "metadata": {
        "colab": {
          "base_uri": "https://localhost:8080/",
          "height": 73
        },
        "id": "mM30GTw1OeVD",
        "outputId": "e3f9ef12-75c5-4f0c-a0f8-d4e5ef0bdb69"
      },
      "outputs": [
        {
          "output_type": "display_data",
          "data": {
            "text/plain": [
              "<IPython.core.display.HTML object>"
            ],
            "text/html": [
              "\n",
              "     <input type=\"file\" id=\"files-8aacff74-90b6-4345-ad05-ef77c1e8416e\" name=\"files[]\" multiple disabled\n",
              "        style=\"border:none\" />\n",
              "     <output id=\"result-8aacff74-90b6-4345-ad05-ef77c1e8416e\">\n",
              "      Upload widget is only available when the cell has been executed in the\n",
              "      current browser session. Please rerun this cell to enable.\n",
              "      </output>\n",
              "      <script>// Copyright 2017 Google LLC\n",
              "//\n",
              "// Licensed under the Apache License, Version 2.0 (the \"License\");\n",
              "// you may not use this file except in compliance with the License.\n",
              "// You may obtain a copy of the License at\n",
              "//\n",
              "//      http://www.apache.org/licenses/LICENSE-2.0\n",
              "//\n",
              "// Unless required by applicable law or agreed to in writing, software\n",
              "// distributed under the License is distributed on an \"AS IS\" BASIS,\n",
              "// WITHOUT WARRANTIES OR CONDITIONS OF ANY KIND, either express or implied.\n",
              "// See the License for the specific language governing permissions and\n",
              "// limitations under the License.\n",
              "\n",
              "/**\n",
              " * @fileoverview Helpers for google.colab Python module.\n",
              " */\n",
              "(function(scope) {\n",
              "function span(text, styleAttributes = {}) {\n",
              "  const element = document.createElement('span');\n",
              "  element.textContent = text;\n",
              "  for (const key of Object.keys(styleAttributes)) {\n",
              "    element.style[key] = styleAttributes[key];\n",
              "  }\n",
              "  return element;\n",
              "}\n",
              "\n",
              "// Max number of bytes which will be uploaded at a time.\n",
              "const MAX_PAYLOAD_SIZE = 100 * 1024;\n",
              "\n",
              "function _uploadFiles(inputId, outputId) {\n",
              "  const steps = uploadFilesStep(inputId, outputId);\n",
              "  const outputElement = document.getElementById(outputId);\n",
              "  // Cache steps on the outputElement to make it available for the next call\n",
              "  // to uploadFilesContinue from Python.\n",
              "  outputElement.steps = steps;\n",
              "\n",
              "  return _uploadFilesContinue(outputId);\n",
              "}\n",
              "\n",
              "// This is roughly an async generator (not supported in the browser yet),\n",
              "// where there are multiple asynchronous steps and the Python side is going\n",
              "// to poll for completion of each step.\n",
              "// This uses a Promise to block the python side on completion of each step,\n",
              "// then passes the result of the previous step as the input to the next step.\n",
              "function _uploadFilesContinue(outputId) {\n",
              "  const outputElement = document.getElementById(outputId);\n",
              "  const steps = outputElement.steps;\n",
              "\n",
              "  const next = steps.next(outputElement.lastPromiseValue);\n",
              "  return Promise.resolve(next.value.promise).then((value) => {\n",
              "    // Cache the last promise value to make it available to the next\n",
              "    // step of the generator.\n",
              "    outputElement.lastPromiseValue = value;\n",
              "    return next.value.response;\n",
              "  });\n",
              "}\n",
              "\n",
              "/**\n",
              " * Generator function which is called between each async step of the upload\n",
              " * process.\n",
              " * @param {string} inputId Element ID of the input file picker element.\n",
              " * @param {string} outputId Element ID of the output display.\n",
              " * @return {!Iterable<!Object>} Iterable of next steps.\n",
              " */\n",
              "function* uploadFilesStep(inputId, outputId) {\n",
              "  const inputElement = document.getElementById(inputId);\n",
              "  inputElement.disabled = false;\n",
              "\n",
              "  const outputElement = document.getElementById(outputId);\n",
              "  outputElement.innerHTML = '';\n",
              "\n",
              "  const pickedPromise = new Promise((resolve) => {\n",
              "    inputElement.addEventListener('change', (e) => {\n",
              "      resolve(e.target.files);\n",
              "    });\n",
              "  });\n",
              "\n",
              "  const cancel = document.createElement('button');\n",
              "  inputElement.parentElement.appendChild(cancel);\n",
              "  cancel.textContent = 'Cancel upload';\n",
              "  const cancelPromise = new Promise((resolve) => {\n",
              "    cancel.onclick = () => {\n",
              "      resolve(null);\n",
              "    };\n",
              "  });\n",
              "\n",
              "  // Wait for the user to pick the files.\n",
              "  const files = yield {\n",
              "    promise: Promise.race([pickedPromise, cancelPromise]),\n",
              "    response: {\n",
              "      action: 'starting',\n",
              "    }\n",
              "  };\n",
              "\n",
              "  cancel.remove();\n",
              "\n",
              "  // Disable the input element since further picks are not allowed.\n",
              "  inputElement.disabled = true;\n",
              "\n",
              "  if (!files) {\n",
              "    return {\n",
              "      response: {\n",
              "        action: 'complete',\n",
              "      }\n",
              "    };\n",
              "  }\n",
              "\n",
              "  for (const file of files) {\n",
              "    const li = document.createElement('li');\n",
              "    li.append(span(file.name, {fontWeight: 'bold'}));\n",
              "    li.append(span(\n",
              "        `(${file.type || 'n/a'}) - ${file.size} bytes, ` +\n",
              "        `last modified: ${\n",
              "            file.lastModifiedDate ? file.lastModifiedDate.toLocaleDateString() :\n",
              "                                    'n/a'} - `));\n",
              "    const percent = span('0% done');\n",
              "    li.appendChild(percent);\n",
              "\n",
              "    outputElement.appendChild(li);\n",
              "\n",
              "    const fileDataPromise = new Promise((resolve) => {\n",
              "      const reader = new FileReader();\n",
              "      reader.onload = (e) => {\n",
              "        resolve(e.target.result);\n",
              "      };\n",
              "      reader.readAsArrayBuffer(file);\n",
              "    });\n",
              "    // Wait for the data to be ready.\n",
              "    let fileData = yield {\n",
              "      promise: fileDataPromise,\n",
              "      response: {\n",
              "        action: 'continue',\n",
              "      }\n",
              "    };\n",
              "\n",
              "    // Use a chunked sending to avoid message size limits. See b/62115660.\n",
              "    let position = 0;\n",
              "    do {\n",
              "      const length = Math.min(fileData.byteLength - position, MAX_PAYLOAD_SIZE);\n",
              "      const chunk = new Uint8Array(fileData, position, length);\n",
              "      position += length;\n",
              "\n",
              "      const base64 = btoa(String.fromCharCode.apply(null, chunk));\n",
              "      yield {\n",
              "        response: {\n",
              "          action: 'append',\n",
              "          file: file.name,\n",
              "          data: base64,\n",
              "        },\n",
              "      };\n",
              "\n",
              "      let percentDone = fileData.byteLength === 0 ?\n",
              "          100 :\n",
              "          Math.round((position / fileData.byteLength) * 100);\n",
              "      percent.textContent = `${percentDone}% done`;\n",
              "\n",
              "    } while (position < fileData.byteLength);\n",
              "  }\n",
              "\n",
              "  // All done.\n",
              "  yield {\n",
              "    response: {\n",
              "      action: 'complete',\n",
              "    }\n",
              "  };\n",
              "}\n",
              "\n",
              "scope.google = scope.google || {};\n",
              "scope.google.colab = scope.google.colab || {};\n",
              "scope.google.colab._files = {\n",
              "  _uploadFiles,\n",
              "  _uploadFilesContinue,\n",
              "};\n",
              "})(self);\n",
              "</script> "
            ]
          },
          "metadata": {}
        },
        {
          "output_type": "stream",
          "name": "stdout",
          "text": [
            "Saving mcmc_cosmo_data.csv to mcmc_cosmo_data.csv\n"
          ]
        }
      ],
      "source": [
        "import matplotlib.pyplot as plt\n",
        "import numpy as np\n",
        "import pandas as pd\n",
        "import seaborn as sns\n",
        "from scipy.integrate import quad\n",
        "from mpl_toolkits.mplot3d import Axes3D\n",
        "from google.colab import files\n",
        "uploaded = files.upload()\n",
        "from numpy import unravel_index\n",
        "from termcolor import colored\n"
      ]
    },
    {
      "cell_type": "markdown",
      "source": [
        "# Data loading"
      ],
      "metadata": {
        "id": "if6_qRycUNyo"
      }
    },
    {
      "cell_type": "code",
      "source": [
        "data= pd.read_csv('mcmc_cosmo_data.csv')\n",
        "z = data['z']\n",
        "D_L = data['D_L(Mpc)']\n",
        "sigma_D = data['sigma_D(Mpc)']\n",
        "data.head(20)"
      ],
      "metadata": {
        "colab": {
          "base_uri": "https://localhost:8080/",
          "height": 677
        },
        "id": "1fkl_IkcUF0G",
        "outputId": "6232a422-e96c-448d-fb20-c0454d6ff2a4"
      },
      "execution_count": 8,
      "outputs": [
        {
          "output_type": "execute_result",
          "data": {
            "text/plain": [
              "           z     D_L(Mpc)  sigma_D(Mpc)\n",
              "0   0.010000    53.092518            20\n",
              "1   0.062105   275.738025            20\n",
              "2   0.114211   543.648025            20\n",
              "3   0.166316   829.223900            20\n",
              "4   0.218421  1077.087212            20\n",
              "5   0.270526  1374.126857            20\n",
              "6   0.322632  1720.599828            20\n",
              "7   0.374737  2026.914831            20\n",
              "8   0.426842  2336.295625            20\n",
              "9   0.478947  2701.494457            20\n",
              "10  0.531053  3036.489913            20\n",
              "11  0.583158  3401.079386            20\n",
              "12  0.635263  3788.798188            20\n",
              "13  0.687368  4127.638904            20\n",
              "14  0.739474  4521.224291            20\n",
              "15  0.791579  4941.697805            20\n",
              "16  0.843684  5336.876548            20\n",
              "17  0.895789  5774.175624            20\n",
              "18  0.947895  6166.685573            20\n",
              "19  1.000000  6579.411624            20"
            ],
            "text/html": [
              "\n",
              "  <div id=\"df-55101e8d-fd29-4171-92d8-23db9cf09225\" class=\"colab-df-container\">\n",
              "    <div>\n",
              "<style scoped>\n",
              "    .dataframe tbody tr th:only-of-type {\n",
              "        vertical-align: middle;\n",
              "    }\n",
              "\n",
              "    .dataframe tbody tr th {\n",
              "        vertical-align: top;\n",
              "    }\n",
              "\n",
              "    .dataframe thead th {\n",
              "        text-align: right;\n",
              "    }\n",
              "</style>\n",
              "<table border=\"1\" class=\"dataframe\">\n",
              "  <thead>\n",
              "    <tr style=\"text-align: right;\">\n",
              "      <th></th>\n",
              "      <th>z</th>\n",
              "      <th>D_L(Mpc)</th>\n",
              "      <th>sigma_D(Mpc)</th>\n",
              "    </tr>\n",
              "  </thead>\n",
              "  <tbody>\n",
              "    <tr>\n",
              "      <th>0</th>\n",
              "      <td>0.010000</td>\n",
              "      <td>53.092518</td>\n",
              "      <td>20</td>\n",
              "    </tr>\n",
              "    <tr>\n",
              "      <th>1</th>\n",
              "      <td>0.062105</td>\n",
              "      <td>275.738025</td>\n",
              "      <td>20</td>\n",
              "    </tr>\n",
              "    <tr>\n",
              "      <th>2</th>\n",
              "      <td>0.114211</td>\n",
              "      <td>543.648025</td>\n",
              "      <td>20</td>\n",
              "    </tr>\n",
              "    <tr>\n",
              "      <th>3</th>\n",
              "      <td>0.166316</td>\n",
              "      <td>829.223900</td>\n",
              "      <td>20</td>\n",
              "    </tr>\n",
              "    <tr>\n",
              "      <th>4</th>\n",
              "      <td>0.218421</td>\n",
              "      <td>1077.087212</td>\n",
              "      <td>20</td>\n",
              "    </tr>\n",
              "    <tr>\n",
              "      <th>5</th>\n",
              "      <td>0.270526</td>\n",
              "      <td>1374.126857</td>\n",
              "      <td>20</td>\n",
              "    </tr>\n",
              "    <tr>\n",
              "      <th>6</th>\n",
              "      <td>0.322632</td>\n",
              "      <td>1720.599828</td>\n",
              "      <td>20</td>\n",
              "    </tr>\n",
              "    <tr>\n",
              "      <th>7</th>\n",
              "      <td>0.374737</td>\n",
              "      <td>2026.914831</td>\n",
              "      <td>20</td>\n",
              "    </tr>\n",
              "    <tr>\n",
              "      <th>8</th>\n",
              "      <td>0.426842</td>\n",
              "      <td>2336.295625</td>\n",
              "      <td>20</td>\n",
              "    </tr>\n",
              "    <tr>\n",
              "      <th>9</th>\n",
              "      <td>0.478947</td>\n",
              "      <td>2701.494457</td>\n",
              "      <td>20</td>\n",
              "    </tr>\n",
              "    <tr>\n",
              "      <th>10</th>\n",
              "      <td>0.531053</td>\n",
              "      <td>3036.489913</td>\n",
              "      <td>20</td>\n",
              "    </tr>\n",
              "    <tr>\n",
              "      <th>11</th>\n",
              "      <td>0.583158</td>\n",
              "      <td>3401.079386</td>\n",
              "      <td>20</td>\n",
              "    </tr>\n",
              "    <tr>\n",
              "      <th>12</th>\n",
              "      <td>0.635263</td>\n",
              "      <td>3788.798188</td>\n",
              "      <td>20</td>\n",
              "    </tr>\n",
              "    <tr>\n",
              "      <th>13</th>\n",
              "      <td>0.687368</td>\n",
              "      <td>4127.638904</td>\n",
              "      <td>20</td>\n",
              "    </tr>\n",
              "    <tr>\n",
              "      <th>14</th>\n",
              "      <td>0.739474</td>\n",
              "      <td>4521.224291</td>\n",
              "      <td>20</td>\n",
              "    </tr>\n",
              "    <tr>\n",
              "      <th>15</th>\n",
              "      <td>0.791579</td>\n",
              "      <td>4941.697805</td>\n",
              "      <td>20</td>\n",
              "    </tr>\n",
              "    <tr>\n",
              "      <th>16</th>\n",
              "      <td>0.843684</td>\n",
              "      <td>5336.876548</td>\n",
              "      <td>20</td>\n",
              "    </tr>\n",
              "    <tr>\n",
              "      <th>17</th>\n",
              "      <td>0.895789</td>\n",
              "      <td>5774.175624</td>\n",
              "      <td>20</td>\n",
              "    </tr>\n",
              "    <tr>\n",
              "      <th>18</th>\n",
              "      <td>0.947895</td>\n",
              "      <td>6166.685573</td>\n",
              "      <td>20</td>\n",
              "    </tr>\n",
              "    <tr>\n",
              "      <th>19</th>\n",
              "      <td>1.000000</td>\n",
              "      <td>6579.411624</td>\n",
              "      <td>20</td>\n",
              "    </tr>\n",
              "  </tbody>\n",
              "</table>\n",
              "</div>\n",
              "    <div class=\"colab-df-buttons\">\n",
              "\n",
              "  <div class=\"colab-df-container\">\n",
              "    <button class=\"colab-df-convert\" onclick=\"convertToInteractive('df-55101e8d-fd29-4171-92d8-23db9cf09225')\"\n",
              "            title=\"Convert this dataframe to an interactive table.\"\n",
              "            style=\"display:none;\">\n",
              "\n",
              "  <svg xmlns=\"http://www.w3.org/2000/svg\" height=\"24px\" viewBox=\"0 -960 960 960\">\n",
              "    <path d=\"M120-120v-720h720v720H120Zm60-500h600v-160H180v160Zm220 220h160v-160H400v160Zm0 220h160v-160H400v160ZM180-400h160v-160H180v160Zm440 0h160v-160H620v160ZM180-180h160v-160H180v160Zm440 0h160v-160H620v160Z\"/>\n",
              "  </svg>\n",
              "    </button>\n",
              "\n",
              "  <style>\n",
              "    .colab-df-container {\n",
              "      display:flex;\n",
              "      gap: 12px;\n",
              "    }\n",
              "\n",
              "    .colab-df-convert {\n",
              "      background-color: #E8F0FE;\n",
              "      border: none;\n",
              "      border-radius: 50%;\n",
              "      cursor: pointer;\n",
              "      display: none;\n",
              "      fill: #1967D2;\n",
              "      height: 32px;\n",
              "      padding: 0 0 0 0;\n",
              "      width: 32px;\n",
              "    }\n",
              "\n",
              "    .colab-df-convert:hover {\n",
              "      background-color: #E2EBFA;\n",
              "      box-shadow: 0px 1px 2px rgba(60, 64, 67, 0.3), 0px 1px 3px 1px rgba(60, 64, 67, 0.15);\n",
              "      fill: #174EA6;\n",
              "    }\n",
              "\n",
              "    .colab-df-buttons div {\n",
              "      margin-bottom: 4px;\n",
              "    }\n",
              "\n",
              "    [theme=dark] .colab-df-convert {\n",
              "      background-color: #3B4455;\n",
              "      fill: #D2E3FC;\n",
              "    }\n",
              "\n",
              "    [theme=dark] .colab-df-convert:hover {\n",
              "      background-color: #434B5C;\n",
              "      box-shadow: 0px 1px 3px 1px rgba(0, 0, 0, 0.15);\n",
              "      filter: drop-shadow(0px 1px 2px rgba(0, 0, 0, 0.3));\n",
              "      fill: #FFFFFF;\n",
              "    }\n",
              "  </style>\n",
              "\n",
              "    <script>\n",
              "      const buttonEl =\n",
              "        document.querySelector('#df-55101e8d-fd29-4171-92d8-23db9cf09225 button.colab-df-convert');\n",
              "      buttonEl.style.display =\n",
              "        google.colab.kernel.accessAllowed ? 'block' : 'none';\n",
              "\n",
              "      async function convertToInteractive(key) {\n",
              "        const element = document.querySelector('#df-55101e8d-fd29-4171-92d8-23db9cf09225');\n",
              "        const dataTable =\n",
              "          await google.colab.kernel.invokeFunction('convertToInteractive',\n",
              "                                                    [key], {});\n",
              "        if (!dataTable) return;\n",
              "\n",
              "        const docLinkHtml = 'Like what you see? Visit the ' +\n",
              "          '<a target=\"_blank\" href=https://colab.research.google.com/notebooks/data_table.ipynb>data table notebook</a>'\n",
              "          + ' to learn more about interactive tables.';\n",
              "        element.innerHTML = '';\n",
              "        dataTable['output_type'] = 'display_data';\n",
              "        await google.colab.output.renderOutput(dataTable, element);\n",
              "        const docLink = document.createElement('div');\n",
              "        docLink.innerHTML = docLinkHtml;\n",
              "        element.appendChild(docLink);\n",
              "      }\n",
              "    </script>\n",
              "  </div>\n",
              "\n",
              "\n",
              "    <div id=\"df-64f0fdb1-c150-46df-b26a-4b1a8839f6ff\">\n",
              "      <button class=\"colab-df-quickchart\" onclick=\"quickchart('df-64f0fdb1-c150-46df-b26a-4b1a8839f6ff')\"\n",
              "                title=\"Suggest charts\"\n",
              "                style=\"display:none;\">\n",
              "\n",
              "<svg xmlns=\"http://www.w3.org/2000/svg\" height=\"24px\"viewBox=\"0 0 24 24\"\n",
              "     width=\"24px\">\n",
              "    <g>\n",
              "        <path d=\"M19 3H5c-1.1 0-2 .9-2 2v14c0 1.1.9 2 2 2h14c1.1 0 2-.9 2-2V5c0-1.1-.9-2-2-2zM9 17H7v-7h2v7zm4 0h-2V7h2v10zm4 0h-2v-4h2v4z\"/>\n",
              "    </g>\n",
              "</svg>\n",
              "      </button>\n",
              "\n",
              "<style>\n",
              "  .colab-df-quickchart {\n",
              "      --bg-color: #E8F0FE;\n",
              "      --fill-color: #1967D2;\n",
              "      --hover-bg-color: #E2EBFA;\n",
              "      --hover-fill-color: #174EA6;\n",
              "      --disabled-fill-color: #AAA;\n",
              "      --disabled-bg-color: #DDD;\n",
              "  }\n",
              "\n",
              "  [theme=dark] .colab-df-quickchart {\n",
              "      --bg-color: #3B4455;\n",
              "      --fill-color: #D2E3FC;\n",
              "      --hover-bg-color: #434B5C;\n",
              "      --hover-fill-color: #FFFFFF;\n",
              "      --disabled-bg-color: #3B4455;\n",
              "      --disabled-fill-color: #666;\n",
              "  }\n",
              "\n",
              "  .colab-df-quickchart {\n",
              "    background-color: var(--bg-color);\n",
              "    border: none;\n",
              "    border-radius: 50%;\n",
              "    cursor: pointer;\n",
              "    display: none;\n",
              "    fill: var(--fill-color);\n",
              "    height: 32px;\n",
              "    padding: 0;\n",
              "    width: 32px;\n",
              "  }\n",
              "\n",
              "  .colab-df-quickchart:hover {\n",
              "    background-color: var(--hover-bg-color);\n",
              "    box-shadow: 0 1px 2px rgba(60, 64, 67, 0.3), 0 1px 3px 1px rgba(60, 64, 67, 0.15);\n",
              "    fill: var(--button-hover-fill-color);\n",
              "  }\n",
              "\n",
              "  .colab-df-quickchart-complete:disabled,\n",
              "  .colab-df-quickchart-complete:disabled:hover {\n",
              "    background-color: var(--disabled-bg-color);\n",
              "    fill: var(--disabled-fill-color);\n",
              "    box-shadow: none;\n",
              "  }\n",
              "\n",
              "  .colab-df-spinner {\n",
              "    border: 2px solid var(--fill-color);\n",
              "    border-color: transparent;\n",
              "    border-bottom-color: var(--fill-color);\n",
              "    animation:\n",
              "      spin 1s steps(1) infinite;\n",
              "  }\n",
              "\n",
              "  @keyframes spin {\n",
              "    0% {\n",
              "      border-color: transparent;\n",
              "      border-bottom-color: var(--fill-color);\n",
              "      border-left-color: var(--fill-color);\n",
              "    }\n",
              "    20% {\n",
              "      border-color: transparent;\n",
              "      border-left-color: var(--fill-color);\n",
              "      border-top-color: var(--fill-color);\n",
              "    }\n",
              "    30% {\n",
              "      border-color: transparent;\n",
              "      border-left-color: var(--fill-color);\n",
              "      border-top-color: var(--fill-color);\n",
              "      border-right-color: var(--fill-color);\n",
              "    }\n",
              "    40% {\n",
              "      border-color: transparent;\n",
              "      border-right-color: var(--fill-color);\n",
              "      border-top-color: var(--fill-color);\n",
              "    }\n",
              "    60% {\n",
              "      border-color: transparent;\n",
              "      border-right-color: var(--fill-color);\n",
              "    }\n",
              "    80% {\n",
              "      border-color: transparent;\n",
              "      border-right-color: var(--fill-color);\n",
              "      border-bottom-color: var(--fill-color);\n",
              "    }\n",
              "    90% {\n",
              "      border-color: transparent;\n",
              "      border-bottom-color: var(--fill-color);\n",
              "    }\n",
              "  }\n",
              "</style>\n",
              "\n",
              "      <script>\n",
              "        async function quickchart(key) {\n",
              "          const quickchartButtonEl =\n",
              "            document.querySelector('#' + key + ' button');\n",
              "          quickchartButtonEl.disabled = true;  // To prevent multiple clicks.\n",
              "          quickchartButtonEl.classList.add('colab-df-spinner');\n",
              "          try {\n",
              "            const charts = await google.colab.kernel.invokeFunction(\n",
              "                'suggestCharts', [key], {});\n",
              "          } catch (error) {\n",
              "            console.error('Error during call to suggestCharts:', error);\n",
              "          }\n",
              "          quickchartButtonEl.classList.remove('colab-df-spinner');\n",
              "          quickchartButtonEl.classList.add('colab-df-quickchart-complete');\n",
              "        }\n",
              "        (() => {\n",
              "          let quickchartButtonEl =\n",
              "            document.querySelector('#df-64f0fdb1-c150-46df-b26a-4b1a8839f6ff button');\n",
              "          quickchartButtonEl.style.display =\n",
              "            google.colab.kernel.accessAllowed ? 'block' : 'none';\n",
              "        })();\n",
              "      </script>\n",
              "    </div>\n",
              "\n",
              "    </div>\n",
              "  </div>\n"
            ],
            "application/vnd.google.colaboratory.intrinsic+json": {
              "type": "dataframe",
              "variable_name": "data",
              "summary": "{\n  \"name\": \"data\",\n  \"rows\": 20,\n  \"fields\": [\n    {\n      \"column\": \"z\",\n      \"properties\": {\n        \"dtype\": \"number\",\n        \"std\": 0.308258849479835,\n        \"min\": 0.01,\n        \"max\": 1.0,\n        \"num_unique_values\": 20,\n        \"samples\": [\n          0.01,\n          0.895789,\n          0.791579\n        ],\n        \"semantic_type\": \"\",\n        \"description\": \"\"\n      }\n    },\n    {\n      \"column\": \"D_L(Mpc)\",\n      \"properties\": {\n        \"dtype\": \"number\",\n        \"std\": 2057.39859426545,\n        \"min\": 53.092518,\n        \"max\": 6579.411624,\n        \"num_unique_values\": 20,\n        \"samples\": [\n          53.092518,\n          5774.175624,\n          4941.697805\n        ],\n        \"semantic_type\": \"\",\n        \"description\": \"\"\n      }\n    },\n    {\n      \"column\": \"sigma_D(Mpc)\",\n      \"properties\": {\n        \"dtype\": \"number\",\n        \"std\": 0,\n        \"min\": 20,\n        \"max\": 20,\n        \"num_unique_values\": 1,\n        \"samples\": [\n          20\n        ],\n        \"semantic_type\": \"\",\n        \"description\": \"\"\n      }\n    }\n  ]\n}"
            }
          },
          "metadata": {},
          "execution_count": 8
        }
      ]
    },
    {
      "cell_type": "markdown",
      "source": [
        "Extracting the redshift (z), luminosity distance (D_L), and their uncertainties (sigma_D) from the data file and converts them into NumPy arrays:"
      ],
      "metadata": {
        "id": "db5Fge0HUUOj"
      }
    },
    {
      "cell_type": "code",
      "source": [
        "z_obs_list = np.array(data['z'].tolist())\n",
        "D_L_obs_list = np.array(data['D_L(Mpc)'].tolist())\n",
        "sigma_D_list = np.array(data['sigma_D(Mpc)'].tolist())"
      ],
      "metadata": {
        "id": "gkbwPYUxTluh"
      },
      "execution_count": 9,
      "outputs": []
    },
    {
      "cell_type": "markdown",
      "source": [
        "Visualization of Luminosity Distance vs. Redshift:"
      ],
      "metadata": {
        "id": "RUlRVex5UXje"
      }
    },
    {
      "cell_type": "code",
      "source": [
        "plt.figure(figsize=(6, 4))\n",
        "plt.errorbar(\n",
        "    z_obs_list, D_L_obs_list, yerr=sigma_D_list,\n",
        "    fmt='o', markersize=3, capsize=4,\n",
        "    elinewidth=1, ecolor='gray', color='royalblue',\n",
        "    alpha=0.8, label='Observational Data'\n",
        ")\n",
        "\n",
        "plt.xlabel('$z$', fontsize=14)\n",
        "plt.ylabel('$D_L$ [Mpc]', fontsize=14)\n",
        "plt.title('Luminosity Distance - Redshift with Error Bars', fontsize=16, fontweight='bold')\n",
        "\n",
        "plt.grid(True, linestyle='--', alpha=0.4)\n",
        "plt.legend(fontsize=12)\n",
        "plt.tight_layout()\n",
        "plt.show()\n"
      ],
      "metadata": {
        "colab": {
          "base_uri": "https://localhost:8080/",
          "height": 407
        },
        "id": "W4LHRLe3UbW0",
        "outputId": "cfb9899b-f42b-4c33-8769-00f7f12b977c"
      },
      "execution_count": 10,
      "outputs": [
        {
          "output_type": "display_data",
          "data": {
            "text/plain": [
              "<Figure size 600x400 with 1 Axes>"
            ],
            "image/png": "[encoded data removed]"
          },
          "metadata": {}
        }
      ]
    },
    {
      "cell_type": "markdown",
      "source": [
        " Theory of luminosity distance for flat LCDM :\n",
        "\n",
        "\n",
        "$$ D_L(z; H_0, \\Omega_m) \\approx \\frac{c(1+z)}{H_0} \\int_0^z \\frac{dz'}{\\sqrt{\\Omega_m(1+z')^3 + (1-\\Omega_m)}} $$\n",
        "\n",
        "where $c = 299{,}792.458\\ \\text{km/s}$. we will compute it this form:"
      ],
      "metadata": {
        "id": "Dz5HMIKLUjpr"
      }
    },
    {
      "cell_type": "code",
      "source": [
        "# Constants\n",
        "c = 299792.458  # speed of light in km/s\n",
        "H0 = 70         # Hubble constant in km/s/Mpc\n",
        "Omega_m = 0.25   # matter density parameter\n",
        "\n",
        "# Function inside the integral\n",
        "def integrand(z, Omega_m):\n",
        "    return 1.0 / np.sqrt(Omega_m * (1 + z)**3 + (1 - Omega_m))\n",
        "\n",
        "# Luminosity distance function from 0 to z\n",
        "def luminosity_distance(z, H0, Omega_m):\n",
        "    integral, _ = quad(integrand, 0., z, args=(Omega_m,), epsrel=1e-6)\n",
        "    return (c * (1 + z) / H0) * integral\n",
        "\n",
        "def D_L_theory_for_all_zs(z_obs_list, H0, Omega_m):\n",
        "    return np.array([luminosity_distance(z, H0, Omega_m) for z in z_obs_list])"
      ],
      "metadata": {
        "id": "iACXy55nUeZS"
      },
      "execution_count": 11,
      "outputs": []
    },
    {
      "cell_type": "markdown",
      "source": [
        "# 1. Model and Likelihood\n",
        "- Assume Gaussian errors $\\sigma_{D_L}$ for each data point.\n",
        "- The likelihood for parameters $(H_0, \\Omega_m)$ is:\n",
        "\n",
        "$$ L(H_0, \\Omega_m) \\propto \\exp\\left( -\\frac{1}{2} \\sum_{i} \\frac{\\left[ D_{L,i}^{\\text{obs}} - D_L(z_i; H_0, \\Omega_m) \\right]^2}{\\sigma_{D_L}^2} \\right) $$\n"
      ],
      "metadata": {
        "id": "G0ZZujHsUrli"
      }
    },
    {
      "cell_type": "code",
      "source": [
        "def log_likelihood(z_obs_list, H0, Omega_m, D_L_obs_list, sigma_D_list):\n",
        "  D_L_model= D_L_theory_for_all_zs(z_obs_list, H0, Omega_m)\n",
        "  # Gaussian log-likelihood\n",
        "  main = D_L_obs_list - D_L_model\n",
        "  var = sigma_D_list**2\n",
        "  return -0.5 * np.sum((main**2)/var)"
      ],
      "metadata": {
        "id": "TRw_Z7vDUnUv"
      },
      "execution_count": 12,
      "outputs": []
    },
    {
      "cell_type": "markdown",
      "source": [
        "### 2. Set Prior Distributions as:\n",
        "- $H_0 \\sim \\mathcal{U}(50,\\, 90)$ km/s/Mpc  \n",
        "- $\\Omega_m \\sim \\mathcal{U}(0.1,\\, 0.6)$\n",
        "\n",
        "\n"
      ],
      "metadata": {
        "id": "1CyBFI1vUyyZ"
      }
    },
    {
      "cell_type": "code",
      "source": [
        "def prior(H0, omega_m):\n",
        "  if 50 <= H0 <= 90 and 0.1 <= omega_m <= 0.6:\n",
        "    return 0.0    # because log(1)=0\n",
        "  return -np.inf  # because log(0)=-∞"
      ],
      "metadata": {
        "id": "jR4jO0jBUvIG"
      },
      "execution_count": 13,
      "outputs": []
    },
    {
      "cell_type": "code",
      "source": [
        "def log_posterior(z_obs_list,D_L_obs_list, H0, Omega_m, sigma_D_list):\n",
        "  pos= prior(H0, Omega_m)\n",
        "  if not np.isfinite(pos):\n",
        "       return -np.inf\n",
        "  return pos + log_likelihood(z_obs_list, H0, Omega_m, D_L_obs_list, sigma_D_list)"
      ],
      "metadata": {
        "id": "eOeWUTNzVezJ"
      },
      "execution_count": 14,
      "outputs": []
    },
    {
      "cell_type": "markdown",
      "source": [
        "### 3. Metropolis–Hastings Implementation\n",
        "- Proposal: Gaussian jumps in both parameters:\n",
        "\n",
        "$$ H_0^{\\text{new}} \\sim \\mathcal{N}(H_0^{\\text{old}}, \\delta_{H_0}^2), \\quad \\Omega_m^{\\text{new}} \\sim \\mathcal{N}(\\Omega_m^{\\text{old}}, \\delta_{\\Omega_m}^2) $$\n",
        "\n",
        "- Compute acceptance ratio:\n",
        "\n",
        "$$ r = \\frac{P_{\\text{posterior}}\\left(H_0^{\\text{new}}, \\Omega_m^{\\text{new}}\\right)}{P_{\\text{posterior}}\\left(H_0^{\\text{old}}, \\Omega_m^{\\text{old}}\\right)} $$\n",
        "\n",
        "- Accept or reject according to $u < r$, where $u \\sim U(0,1)$:"
      ],
      "metadata": {
        "id": "-6ipT5mwVl3M"
      }
    },
    {
      "cell_type": "code",
      "source": [
        "def run_Metropolis_Hastings(n_steps, initial, prop_std, z_obs_list, D_L_obs_list, sigma_D_list, thin=1, burn=0):\n",
        "    # initial point: (H0, Om)\n",
        "    H0_start, Om_start = initial\n",
        "    log_posterior_start = log_posterior(z_obs_list, D_L_obs_list, H0_start, Om_start, sigma_D_list)\n",
        "    samples = []\n",
        "    n_accept = 0\n",
        "\n",
        "    for i in range(n_steps):\n",
        "        # propose\n",
        "        H0_prop = np.random.normal(H0_start, prop_std[0])\n",
        "        Om_prop = np.random.normal(Om_start, prop_std[1])\n",
        "        log_posterior_prop = log_posterior(z_obs_list, D_L_obs_list, H0_prop, Om_prop, sigma_D_list)\n",
        "\n",
        "           # acceptance (work in log-space)\n",
        "        if not np.isfinite(log_posterior_prop):\n",
        "            accept = False\n",
        "        else:\n",
        "            log_alpha = log_posterior_prop - log_posterior_start\n",
        "            if log_alpha >= 0:\n",
        "                accept = True\n",
        "            else:\n",
        "                u = np.log(np.random.rand())\n",
        "                accept = (u < log_alpha)\n",
        "\n",
        "        if accept:\n",
        "            H0_start, Om_start = H0_prop, Om_prop\n",
        "            log_posterior_start = log_posterior_prop\n",
        "            n_accept += 1\n",
        "\n",
        "        if i >= burn and ((i - burn) % thin == 0):\n",
        "            samples.append((H0_start, Om_start))\n",
        "\n",
        "    samples = np.array(samples)\n",
        "    acc_rate = n_accept / n_steps\n",
        "    return samples, acc_rate"
      ],
      "metadata": {
        "id": "rRsVzZrSViHv"
      },
      "execution_count": 15,
      "outputs": []
    },
    {
      "cell_type": "code",
      "source": [
        "np.random.seed(42)\n",
        "\n",
        "#  parameters\n",
        "n_steps = 40000          # number of MH steps\n",
        "initial = (70.0, 0.25)   # initial (H0, Omega_m)\n",
        "prop_std = (0.5, 0.005)  # proposal stds for H0, Omega_m\n",
        "\n",
        "#  run the Metropolis-Hastings\n",
        "samples, acc_rate = run_Metropolis_Hastings(n_steps,initial,prop_std,z_obs_list,D_L_obs_list,sigma_D_list, thin=5, burn=5000)\n",
        "\n",
        "\n",
        "print(colored(\"──────────────────────────────\", \"cyan\"))\n",
        "print(colored(\"✅ Metropolis–Hastings Results\", \"yellow\", attrs=[\"bold\"]))\n",
        "print(colored(\"──────────────────────────────\", \"cyan\"))\n",
        "print(colored(f\"Acceptance rate: {acc_rate*100:.1f}%\\n\", \"green\"))\n",
        "\n",
        "\n",
        "H0_samples = samples[:, 0]\n",
        "Omega_m_samples = samples[:, 1]\n",
        "\n",
        "#  posterior summaries\n",
        "H0_med = np.median(H0_samples)\n",
        "Om_med = np.median(Omega_m_samples)\n",
        "\n",
        "H0_CI = np.percentile(H0_samples, [16, 84])\n",
        "Om_CI = np.percentile(Omega_m_samples, [16, 84])\n",
        "\n",
        "#  output\n",
        "print(colored(\"📏 Parameter Estimates (Posterior Summary)\", \"magenta\", attrs=[\"bold\"]))\n",
        "print(colored(\"──────────────────────────────────────────\", \"cyan\"))\n",
        "\n",
        "print(colored(f\"H0 (Hubble constant):\", \"blue\"),\n",
        "      colored(f\"{H0_med:.3f}  [ {H0_CI[0]:.2f} , {H0_CI[1]:.2f} ]\", \"white\"))\n",
        "\n",
        "print(colored(f\"Ωₘ (Matter density):\", \"blue\"),\n",
        "      colored(f\"{Om_med:.4f}  [ {Om_CI[0]:.4f} , {Om_CI[1]:.4f} ]\", \"white\"))\n",
        "\n",
        "print(colored(\"──────────────────────────────────────────\", \"cyan\"))\n"
      ],
      "metadata": {
        "colab": {
          "base_uri": "https://localhost:8080/"
        },
        "id": "jaWXlnzCVpyl",
        "outputId": "12add3b5-b51b-444f-d908-9f1602134c25"
      },
      "execution_count": 16,
      "outputs": [
        {
          "output_type": "stream",
          "name": "stdout",
          "text": [
            "──────────────────────────────\n",
            "✅ Metropolis–Hastings Results\n",
            "──────────────────────────────\n",
            "Acceptance rate: 19.1%\n",
            "\n",
            "📏 Parameter Estimates (Posterior Summary)\n",
            "──────────────────────────────────────────\n",
            "H0 (Hubble constant): 69.554  [ 69.12 , 70.00 ]\n",
            "Ωₘ (Matter density): 0.3185  [ 0.3054 , 0.3311 ]\n",
            "──────────────────────────────────────────\n"
          ]
        }
      ]
    },
    {
      "cell_type": "code",
      "source": [
        "plt.figure(figsize=(10,8))\n",
        "plt.subplot(2,2,1)\n",
        "sns.histplot(H0_samples, kde=True, color='teal')\n",
        "plt.xlabel('H0 [km/s/Mpc]')\n",
        "plt.subplot(2,2,2)\n",
        "sns.histplot(Omega_m_samples, kde=True, color='teal')\n",
        "plt.xlabel('Ωₘ ')\n",
        "plt.tight_layout()\n",
        "plt.show()\n"
      ],
      "metadata": {
        "colab": {
          "base_uri": "https://localhost:8080/",
          "height": 436
        },
        "id": "hOhLUqmqVtmI",
        "outputId": "5b9f688e-5217-4379-ef50-29b9400e9d44"
      },
      "execution_count": 17,
      "outputs": [
        {
          "output_type": "display_data",
          "data": {
            "text/plain": [
              "<Figure size 1000x800 with 2 Axes>"
            ],
            "image/png": "[encoded data removed]"
          },
          "metadata": {}
        }
      ]
    },
    {
      "cell_type": "code",
      "source": [
        "plt.figure(figsize=(10,8))\n",
        "plt.subplot(2,2,3)\n",
        "plt.scatter(H0_samples, Omega_m_samples, s=1, alpha=0.5, color='teal')\n",
        "plt.xlabel('H0'); plt.ylabel('Ωₘ ')\n",
        "plt.tight_layout()\n",
        "plt.show()"
      ],
      "metadata": {
        "colab": {
          "base_uri": "https://localhost:8080/",
          "height": 436
        },
        "id": "hdIrrGqwV_Ya",
        "outputId": "fbf5b1e8-7aec-4b08-d6db-bdcdac079a46"
      },
      "execution_count": 18,
      "outputs": [
        {
          "output_type": "display_data",
          "data": {
            "text/plain": [
              "<Figure size 1000x800 with 1 Axes>"
            ],
            "image/png": "[encoded data removed]"
          },
          "metadata": {}
        }
      ]
    },
    {
      "cell_type": "code",
      "source": [
        "# Compare best-fit (median) model with data\n",
        "z_plot = np.linspace(0, max(z_obs_list)*1.05, 200)\n",
        "D_model_plot = D_L_theory_for_all_zs(z_plot, H0_med, Om_med)\n",
        "\n",
        "plt.figure(figsize=(8,5))\n",
        "plt.errorbar(z_obs_list, D_L_obs_list, yerr=sigma_D_list, fmt='o', markersize=4, capsize=2, label='Data', color='teal')\n",
        "plt.plot(z_plot, D_model_plot, label=f'Model H0={H0_med:.2f}, Om={Om_med:.3f}', lw=2, color='gray')\n",
        "plt.xlabel('z'); plt.ylabel('D_L [Mpc]')\n",
        "plt.legend(); plt.grid(True)\n",
        "plt.show()"
      ],
      "metadata": {
        "colab": {
          "base_uri": "https://localhost:8080/",
          "height": 465
        },
        "id": "NBn1F1xiWDB5",
        "outputId": "d339e077-b414-40b3-8bdf-1d6d812de97b"
      },
      "execution_count": 19,
      "outputs": [
        {
          "output_type": "display_data",
          "data": {
            "text/plain": [
              "<Figure size 800x500 with 1 Axes>"
            ],
            "image/png": "[encoded data removed]"
          },
          "metadata": {}
        }
      ]
    },
    {
      "cell_type": "code",
      "source": [
        "# Effect of Proposal Widths on Convergence\n",
        "\n",
        "\n",
        "np.random.seed(42)\n",
        "\n",
        "# Try a narrower proposal (smaller jumps)\n",
        "proposal_small = (0.05, 0.0005)\n",
        "samples_small, acc_small = run_Metropolis_Hastings(\n",
        "    40000, (70.0, 0.25), proposal_small,\n",
        "    z_obs_list, D_L_obs_list, sigma_D_list,\n",
        "    thin=5, burn=5000\n",
        ")\n",
        "\n",
        "# Try a wider proposal (larger jumps)\n",
        "proposal_large = (1.0, 0.01)\n",
        "samples_large, acc_large = run_Metropolis_Hastings(\n",
        "    40000, (70.0, 0.25), proposal_large,\n",
        "    z_obs_list, D_L_obs_list, sigma_D_list,\n",
        "    thin=5, burn=5000\n",
        ")\n",
        "\n",
        "print(colored(\"──────────────────────────────────────────────\", \"cyan\"))\n",
        "print(colored(\" Proposal Width Comparison\", \"yellow\", attrs=[\"bold\"]))\n",
        "print(colored(\"──────────────────────────────────────────────\", \"cyan\"))\n",
        "print(colored(f\"Small Step (δH₀=0.05, δΩₘ=0.0005):  Acceptance = {acc_small*100:.2f}%\", \"light_blue\"))\n",
        "print(colored(f\"Large Step (δH₀=1.0, δΩₘ=0.01):     Acceptance = {acc_large*100:.2f}%\", \"light_magenta\"))\n",
        "print(colored(\"──────────────────────────────────────────────\", \"cyan\"))\n"
      ],
      "metadata": {
        "colab": {
          "base_uri": "https://localhost:8080/"
        },
        "id": "8y_vTbP0WGt3",
        "outputId": "62080ba9-06de-4ac7-989c-d7a84bab8d7d"
      },
      "execution_count": 23,
      "outputs": [
        {
          "metadata": {
            "tags": null
          },
          "name": "stdout",
          "output_type": "stream",
          "text": [
            "──────────────────────────────────────────────\n",
            " Proposal Width Comparison\n",
            "──────────────────────────────────────────────\n",
            "Small Step (δH₀=0.05, δΩₘ=0.0005):  Acceptance = 81.27%\n",
            "Large Step (δH₀=1.0, δΩₘ=0.01):     Acceptance = 9.05%\n",
            "──────────────────────────────────────────────\n"
          ]
        }
      ]
    },
    {
      "cell_type": "markdown",
      "source": [
        "When using small proposal widths (δH₀=0.05, δΩₘ=0.0005), the acceptance rate is high (>70%),\n",
        "but the chain explores the parameter space slowly and samples are strongly correlated.\n",
        "\n",
        "When using large proposal widths (δH₀=1.0, δΩₘ=0.01), the acceptance rate drops (< 25%),\n",
        "because many proposed steps fall in regions of low posterior probability.\n",
        "\n",
        "The best performance occurs when the acceptance rate is roughly 20–40%,\n",
        "providing a good balance between exploration and convergence speed.\n",
        "\n",
        "The estimated parameters change only slightly (ΔH₀ ≈ 0.01, ΔΩₘ ≈ 0.001),\n",
        "confirming that the algorithm reliably finds the correct region of parameter space."
      ],
      "metadata": {
        "id": "jnDhOwU_YtbC"
      }
    },
    {
      "cell_type": "markdown",
      "source": [
        "**Now Using Pythorch**\n",
        "\n",
        "\n",
        "I did not use PyTorch for the integral.\n",
        "\n"
      ],
      "metadata": {
        "id": "iPLO-VQbZHYV"
      }
    },
    {
      "cell_type": "code",
      "source": [
        "import torch\n",
        "import pandas as pd\n",
        "import numpy as np\n",
        "import matplotlib.pyplot as plt\n",
        "from google.colab import files\n",
        "from scipy.integrate import quad  # still needed once for theoretical D_L\n",
        "\n",
        "torch.set_default_dtype(torch.float64)\n",
        "device = 'cuda' if torch.cuda.is_available() else 'cpu'\n",
        "print(\"Using device:\", device)"
      ],
      "metadata": {
        "colab": {
          "base_uri": "https://localhost:8080/"
        },
        "id": "Kip9E2ZFZF1r",
        "outputId": "fe436208-6817-4c15-f0ac-e1efff037152"
      },
      "execution_count": 26,
      "outputs": [
        {
          "output_type": "stream",
          "name": "stdout",
          "text": [
            "Using device: cpu\n"
          ]
        }
      ]
    },
    {
      "cell_type": "code",
      "source": [
        "data = pd.read_csv('mcmc_cosmo_data.csv')\n",
        "\n",
        "# Extract numpy arrays\n",
        "z_obs = data['z'].values\n",
        "D_L_obs = data['D_L(Mpc)'].values\n",
        "sigma_D = data['sigma_D(Mpc)'].values\n",
        "\n",
        "plt.figure(figsize=(6,4))\n",
        "plt.errorbar(z_obs, D_L_obs, yerr=sigma_D, fmt='o', markersize=3,\n",
        "             capsize=4, elinewidth=1, ecolor='gray', color='royalblue', alpha=0.8)\n",
        "plt.xlabel('$z$'); plt.ylabel('$D_L$ [Mpc]')\n",
        "plt.title('Luminosity Distance vs Redshift (data)')\n",
        "plt.grid(True, linestyle='--', alpha=0.4)\n",
        "plt.show()"
      ],
      "metadata": {
        "colab": {
          "base_uri": "https://localhost:8080/",
          "height": 410
        },
        "id": "KJat6svRZR8c",
        "outputId": "a11e8a20-7222-4045-f6e1-847e64c43e73"
      },
      "execution_count": 37,
      "outputs": [
        {
          "output_type": "display_data",
          "data": {
            "text/plain": [
              "<Figure size 600x400 with 1 Axes>"
            ],
            "image/png": "[encoded data removed]"
          },
          "metadata": {}
        }
      ]
    },
    {
      "cell_type": "code",
      "source": [
        "from scipy.integrate import quad\n",
        "\n",
        "# constants\n",
        "c = 299792.458  # km/s\n",
        "def integrand(z, Omega_m):\n",
        "    return 1.0 / np.sqrt(Omega_m * (1 + z)**3 + (1 - Omega_m))\n",
        "\n",
        "def luminosity_distance(z, H0, Omega_m):\n",
        "    integral, _ = quad(integrand, 0., z, args=(Omega_m,), epsrel=1e-6)\n",
        "    return (c * (1 + z) / H0) * integral\n",
        "\n",
        "def D_L_theory_all(z_list, H0, Omega_m):\n",
        "    return np.array([luminosity_distance(z, H0, Omega_m) for z in z_list])\n",
        "\n",
        "# Convert to torch tensors for MCMC\n",
        "z_torch = torch.tensor(z_obs, device=device)\n",
        "D_L_obs_torch = torch.tensor(D_L_obs, device=device)\n",
        "sigma_D_torch = torch.tensor(sigma_D, device=device)"
      ],
      "metadata": {
        "id": "v8nfyOF8ZYKF"
      },
      "execution_count": 28,
      "outputs": []
    },
    {
      "cell_type": "code",
      "source": [
        "def log_likelihood_torch(H0, Om):\n",
        "    # compute theoretical distances in numpy (no autograd)\n",
        "    D_L_model_np = D_L_theory_all(z_obs, H0.item(), Om.item())\n",
        "    D_L_model = torch.tensor(D_L_model_np, device=device)\n",
        "    main = D_L_obs_torch - D_L_model\n",
        "    var = sigma_D_torch ** 2\n",
        "    return -0.5 * torch.sum((main ** 2) / var)\n",
        "\n",
        "def log_prior_torch(H0, Om):\n",
        "    cond = (50.0 <= H0 <= 90.0) and (0.1 <= Om <= 0.6)\n",
        "    return torch.tensor(0.0 if cond else -torch.inf, device=device)\n",
        "\n",
        "def log_posterior_torch(H0, Om):\n",
        "    lp = log_prior_torch(H0, Om)\n",
        "    if not torch.isfinite(lp):\n",
        "        return torch.tensor(-torch.inf, device=device)\n",
        "    return lp + log_likelihood_torch(H0, Om)"
      ],
      "metadata": {
        "id": "cnwAqBXpZaxu"
      },
      "execution_count": 29,
      "outputs": []
    },
    {
      "cell_type": "code",
      "source": [
        "def run_MH_torch(n_steps, initial, prop_std, thin=1, burn=0):\n",
        "    H0_curr, Om_curr = [torch.tensor(v, device=device) for v in initial]\n",
        "    log_post_curr = log_posterior_torch(H0_curr, Om_curr)\n",
        "    samples = []\n",
        "    n_accept = 0\n",
        "\n",
        "    for i in range(n_steps):\n",
        "        # propose new values\n",
        "        H0_prop = torch.normal(H0_curr, prop_std[0])\n",
        "        Om_prop = torch.normal(Om_curr, prop_std[1])\n",
        "        log_post_prop = log_posterior_torch(H0_prop, Om_prop)\n",
        "\n",
        "        if torch.isfinite(log_post_prop):\n",
        "            log_alpha = log_post_prop - log_post_curr\n",
        "            if (log_alpha >= 0) or (torch.log(torch.rand(1, device=device)) < log_alpha):\n",
        "                H0_curr, Om_curr = H0_prop, Om_prop\n",
        "                log_post_curr = log_post_prop\n",
        "                n_accept += 1\n",
        "\n",
        "        if i >= burn and ((i - burn) % thin == 0):\n",
        "            samples.append([H0_curr.item(), Om_curr.item()])\n",
        "\n",
        "    samples = np.array(samples)\n",
        "    acc_rate = n_accept / n_steps\n",
        "    return samples, acc_rate"
      ],
      "metadata": {
        "id": "yQtdVJKGZc5B"
      },
      "execution_count": 30,
      "outputs": []
    },
    {
      "cell_type": "code",
      "source": [
        "n_steps = 40000\n",
        "initial = (70.0, 0.25)\n",
        "prop_std = (0.5, 0.005)\n",
        "\n",
        "samples, acc_rate = run_MH_torch(\n",
        "    n_steps, initial, prop_std, thin=5, burn=5000\n",
        ")\n",
        "\n",
        "print(\"Acceptance rate:\", round(acc_rate * 100, 2), \"%\")\n",
        "\n",
        "H0_samples = samples[:,0]\n",
        "Om_samples = samples[:,1]\n",
        "\n",
        "H0_med = np.median(H0_samples)\n",
        "Om_med = np.median(Om_samples)\n",
        "H0_CI = np.percentile(H0_samples, [16,84])\n",
        "Om_CI = np.percentile(Om_samples, [16,84])\n",
        "\n",
        "print(f\"H0 = {H0_med:.2f}  [{H0_CI[0]:.2f}, {H0_CI[1]:.2f}]\")\n",
        "print(f\"Ω_m = {Om_med:.3f}  [{Om_CI[0]:.3f}, {Om_CI[1]:.3f}]\")\n"
      ],
      "metadata": {
        "colab": {
          "base_uri": "https://localhost:8080/"
        },
        "id": "BFQbuVvhZepy",
        "outputId": "626b94a5-ce75-4f06-ef34-099d9ff06b63"
      },
      "execution_count": 32,
      "outputs": [
        {
          "output_type": "stream",
          "name": "stdout",
          "text": [
            "Acceptance rate: 19.26 %\n",
            "H0 = 69.58  [69.17, 70.02]\n",
            "Ω_m = 0.317  [0.305, 0.330]\n"
          ]
        }
      ]
    },
    {
      "cell_type": "code",
      "source": [
        "import seaborn as sns\n",
        "df = pd.DataFrame({'H0': H0_samples, 'Omega_m': Om_samples})\n",
        "sns.jointplot(data=df, x='Omega_m', y='H0', kind='kde', fill=True)\n",
        "plt.show()"
      ],
      "metadata": {
        "colab": {
          "base_uri": "https://localhost:8080/",
          "height": 607
        },
        "id": "7_ggZTFUZgjR",
        "outputId": "2aad944e-6da3-4dd4-85f4-2fac7f6a6209"
      },
      "execution_count": 36,
      "outputs": [
        {
          "output_type": "display_data",
          "data": {
            "text/plain": [
              "<Figure size 600x600 with 3 Axes>"
            ],
            "image/png": "[encoded data removed]"
          },
          "metadata": {}
        }
      ]
    },
    {
      "cell_type": "code",
      "source": [],
      "metadata": {
        "id": "lPtJurGcZsWF"
      },
      "execution_count": null,
      "outputs": []
    }
  ],
  "metadata": {
    "colab": {
      "collapsed_sections": [
        "7t4aZ35E3xsN"
      ],
      "provenance": []
    },
    "kernelspec": {
      "display_name": "base",
      "language": "python",
      "name": "python3"
    },
    "language_info": {
      "codemirror_mode": {
        "name": "ipython",
        "version": 3
      },
      "file_extension": ".py",
      "mimetype": "text/x-python",
      "name": "python",
      "nbconvert_exporter": "python",
      "pygments_lexer": "ipython3",
      "version": "3.11.4"
    }
  },
  "nbformat": 4,
  "nbformat_minor": 0
}